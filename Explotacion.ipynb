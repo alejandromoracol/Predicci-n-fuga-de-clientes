{
 "cells": [
  {
   "cell_type": "markdown",
   "metadata": {},
   "source": [
    "# Proyecto de predicción de fugas en compañía telefónica - explotación"
   ]
  },
  {
   "cell_type": "code",
   "execution_count": 1,
   "metadata": {},
   "outputs": [],
   "source": [
    "import pickle"
   ]
  },
  {
   "cell_type": "code",
   "execution_count": 2,
   "metadata": {},
   "outputs": [],
   "source": [
    "with open(\"modelo.pkl\", \"rb\") as f:\n",
    "    opciones = pickle.load(f)"
   ]
  },
  {
   "cell_type": "code",
   "execution_count": 3,
   "metadata": {},
   "outputs": [
    {
     "data": {
      "text/plain": [
       "{'modelo': GradientBoostingClassifier(ccp_alpha=0.0, criterion='friedman_mse', init=None,\n",
       "                            learning_rate=0.1, loss='deviance', max_depth=3,\n",
       "                            max_features=None, max_leaf_nodes=None,\n",
       "                            min_impurity_decrease=0.0, min_impurity_split=None,\n",
       "                            min_samples_leaf=1, min_samples_split=2,\n",
       "                            min_weight_fraction_leaf=0.0, n_estimators=26,\n",
       "                            n_iter_no_change=None, presort='deprecated',\n",
       "                            random_state=None, subsample=1.0, tol=0.0001,\n",
       "                            validation_fraction=0.1, verbose=0,\n",
       "                            warm_start=False),\n",
       " 'variables_transformadas_a_log': array(['Customer tenure in month',\n",
       "        'Total Spend in Months 1 and 2 of 2017', 'Total SMS Spend',\n",
       "        'Total Data Spend', 'Total Data Consumption', 'Total Unique Calls',\n",
       "        'Total Onnet spend', 'Total Offnet spend',\n",
       "        'Total Call centre complaint calls', 'ratio2', 'ratio3', 'ratio4'],\n",
       "       dtype=object),\n",
       " 'variables_estandarizadas': array(['Customer tenure in month',\n",
       "        'Total Spend in Months 1 and 2 of 2017', 'Total SMS Spend',\n",
       "        'Total Data Consumption', 'Total Unique Calls',\n",
       "        'Total Onnet spend', 'Total Call centre complaint calls', 'ratio3',\n",
       "        'ratio4'], dtype=object),\n",
       " 'estandarizador': StandardScaler(copy=True, with_mean=True, with_std=True),\n",
       " 'variables_usadas': array(['Customer tenure in month',\n",
       "        'Total Spend in Months 1 and 2 of 2017', 'Total SMS Spend',\n",
       "        'Total Data Consumption', 'Total Unique Calls',\n",
       "        'Total Onnet spend', 'Total Call centre complaint calls',\n",
       "        'Most Loved Competitor network in in Month 1_0',\n",
       "        'Most Loved Competitor network in in Month 1_Mango',\n",
       "        'Most Loved Competitor network in in Month 1_PQza',\n",
       "        'Most Loved Competitor network in in Month 1_Uxaa',\n",
       "        'Most Loved Competitor network in in Month 1_Zintel',\n",
       "        'Most Loved Competitor network in in Month 2_Mango',\n",
       "        'Most Loved Competitor network in in Month 2_PQza',\n",
       "        'Most Loved Competitor network in in Month 2_ToCall',\n",
       "        'Most Loved Competitor network in in Month 2_Uxaa',\n",
       "        'Most Loved Competitor network in in Month 2_Weematel',\n",
       "        'Most Loved Competitor network in in Month 2_Zintel', 'ratio3',\n",
       "        'ratio4'], dtype=object)}"
      ]
     },
     "execution_count": 3,
     "metadata": {},
     "output_type": "execute_result"
    }
   ],
   "source": [
    "opciones"
   ]
  },
  {
   "cell_type": "code",
   "execution_count": 4,
   "metadata": {},
   "outputs": [],
   "source": [
    "model                         = opciones[\"modelo\"]\n",
    "variables_transformadas_a_log = opciones[\"variables_transformadas_a_log\"]\n",
    "estandarizador                = opciones[\"estandarizador\"]\n",
    "variables_estandarizadas      = opciones[\"variables_estandarizadas\"]\n",
    "variables_usadas              = opciones[\"variables_usadas\"]"
   ]
  },
  {
   "cell_type": "code",
   "execution_count": 5,
   "metadata": {},
   "outputs": [],
   "source": [
    "import pandas as pd\n",
    "import numpy as np"
   ]
  },
  {
   "cell_type": "code",
   "execution_count": 6,
   "metadata": {},
   "outputs": [
    {
     "name": "stdout",
     "output_type": "stream",
     "text": [
      "(289, 16)\n"
     ]
    },
    {
     "data": {
      "text/plain": [
       "Network type subscription in Month 1    175\n",
       "Network type subscription in Month 2    122\n",
       "Churn Status                            289\n",
       "dtype: int64"
      ]
     },
     "execution_count": 6,
     "metadata": {},
     "output_type": "execute_result"
    }
   ],
   "source": [
    "df_expl = pd.read_csv(\"../datasets/fuga_clientes_empresa_telefonica_explotacion.csv\")\n",
    "print(df_expl.shape)\n",
    "aux2 = df_expl.isna().sum()\n",
    "aux2[aux2>0]"
   ]
  },
  {
   "cell_type": "markdown",
   "metadata": {},
   "source": [
    "En vista de los resultados, se eliminan todas las filas de training que tienen algún nan en alguna columna. Por otra parte, se eliminan, tanto de training como de test, las variables **Network type subscription in Month 1** y **Network type subscription in Month 2**."
   ]
  },
  {
   "cell_type": "code",
   "execution_count": 7,
   "metadata": {},
   "outputs": [],
   "source": [
    "df_expl = df_expl.drop([\"Network type subscription in Month 1\",\n",
    "                        \"Network type subscription in Month 2\"], axis=1)"
   ]
  },
  {
   "cell_type": "code",
   "execution_count": 8,
   "metadata": {},
   "outputs": [
    {
     "data": {
      "text/plain": [
       "(289, 14)"
      ]
     },
     "execution_count": 8,
     "metadata": {},
     "output_type": "execute_result"
    }
   ],
   "source": [
    "df_expl.shape"
   ]
  },
  {
   "cell_type": "code",
   "execution_count": 9,
   "metadata": {},
   "outputs": [
    {
     "data": {
      "text/plain": [
       "Churn Status    289\n",
       "dtype: int64"
      ]
     },
     "execution_count": 9,
     "metadata": {},
     "output_type": "execute_result"
    }
   ],
   "source": [
    "aux2 = df_expl.isna().sum()\n",
    "aux2[aux2>0]"
   ]
  },
  {
   "cell_type": "code",
   "execution_count": 10,
   "metadata": {},
   "outputs": [],
   "source": [
    "df_expl_num = pd.get_dummies(df_expl.drop('Customer ID', axis=1))\n",
    "df_expl_num.insert(loc=0, value=df_expl['Customer ID'], column='Customer ID')"
   ]
  },
  {
   "cell_type": "code",
   "execution_count": 11,
   "metadata": {},
   "outputs": [],
   "source": [
    "# Por si posteriormente queremos trabajar directamente a partir de\n",
    "# las bases de datos limpias:\n",
    "df_expl_num.to_csv(\"fuga_clientes_empresa_telefonica_explotacion_LIMPIO.csv\", index=None)"
   ]
  },
  {
   "cell_type": "markdown",
   "metadata": {},
   "source": [
    "## Siguiente paso: trabajamos con la base de datos completamente numérica"
   ]
  },
  {
   "cell_type": "code",
   "execution_count": 12,
   "metadata": {},
   "outputs": [],
   "source": [
    "df_expl = df_expl_num\n",
    "del df_expl_num"
   ]
  },
  {
   "cell_type": "code",
   "execution_count": 13,
   "metadata": {},
   "outputs": [
    {
     "data": {
      "text/html": [
       "<div>\n",
       "<style scoped>\n",
       "    .dataframe tbody tr th:only-of-type {\n",
       "        vertical-align: middle;\n",
       "    }\n",
       "\n",
       "    .dataframe tbody tr th {\n",
       "        vertical-align: top;\n",
       "    }\n",
       "\n",
       "    .dataframe thead th {\n",
       "        text-align: right;\n",
       "    }\n",
       "</style>\n",
       "<table border=\"1\" class=\"dataframe\">\n",
       "  <thead>\n",
       "    <tr style=\"text-align: right;\">\n",
       "      <th></th>\n",
       "      <th>Customer ID</th>\n",
       "      <th>network_age</th>\n",
       "      <th>Customer tenure in month</th>\n",
       "      <th>Total Spend in Months 1 and 2 of 2017</th>\n",
       "      <th>Total SMS Spend</th>\n",
       "      <th>Total Data Spend</th>\n",
       "      <th>Total Data Consumption</th>\n",
       "      <th>Total Unique Calls</th>\n",
       "      <th>Total Onnet spend</th>\n",
       "      <th>Total Offnet spend</th>\n",
       "      <th>...</th>\n",
       "      <th>Most Loved Competitor network in in Month 1_ToCall</th>\n",
       "      <th>Most Loved Competitor network in in Month 1_Uxaa</th>\n",
       "      <th>Most Loved Competitor network in in Month 1_Weematel</th>\n",
       "      <th>Most Loved Competitor network in in Month 1_Zintel</th>\n",
       "      <th>Most Loved Competitor network in in Month 2_Mango</th>\n",
       "      <th>Most Loved Competitor network in in Month 2_PQza</th>\n",
       "      <th>Most Loved Competitor network in in Month 2_ToCall</th>\n",
       "      <th>Most Loved Competitor network in in Month 2_Uxaa</th>\n",
       "      <th>Most Loved Competitor network in in Month 2_Weematel</th>\n",
       "      <th>Most Loved Competitor network in in Month 2_Zintel</th>\n",
       "    </tr>\n",
       "  </thead>\n",
       "  <tbody>\n",
       "    <tr>\n",
       "      <th>52</th>\n",
       "      <td>ADF1623</td>\n",
       "      <td>-2</td>\n",
       "      <td>-0.07</td>\n",
       "      <td>130.578</td>\n",
       "      <td>94.85</td>\n",
       "      <td>1.25</td>\n",
       "      <td>2.1953</td>\n",
       "      <td>7</td>\n",
       "      <td>150</td>\n",
       "      <td>1121</td>\n",
       "      <td>...</td>\n",
       "      <td>0</td>\n",
       "      <td>1</td>\n",
       "      <td>0</td>\n",
       "      <td>0</td>\n",
       "      <td>0</td>\n",
       "      <td>0</td>\n",
       "      <td>0</td>\n",
       "      <td>1</td>\n",
       "      <td>0</td>\n",
       "      <td>0</td>\n",
       "    </tr>\n",
       "  </tbody>\n",
       "</table>\n",
       "<p>1 rows × 25 columns</p>\n",
       "</div>"
      ],
      "text/plain": [
       "   Customer ID  network_age  Customer tenure in month  \\\n",
       "52     ADF1623           -2                     -0.07   \n",
       "\n",
       "    Total Spend in Months 1 and 2 of 2017  Total SMS Spend  Total Data Spend  \\\n",
       "52                                130.578            94.85              1.25   \n",
       "\n",
       "    Total Data Consumption  Total Unique Calls  Total Onnet spend  \\\n",
       "52                  2.1953                   7                150   \n",
       "\n",
       "    Total Offnet spend  ...  \\\n",
       "52                1121  ...   \n",
       "\n",
       "    Most Loved Competitor network in in Month 1_ToCall  \\\n",
       "52                                                  0    \n",
       "\n",
       "    Most Loved Competitor network in in Month 1_Uxaa  \\\n",
       "52                                                 1   \n",
       "\n",
       "    Most Loved Competitor network in in Month 1_Weematel  \\\n",
       "52                                                  0      \n",
       "\n",
       "    Most Loved Competitor network in in Month 1_Zintel  \\\n",
       "52                                                  0    \n",
       "\n",
       "    Most Loved Competitor network in in Month 2_Mango  \\\n",
       "52                                                  0   \n",
       "\n",
       "    Most Loved Competitor network in in Month 2_PQza  \\\n",
       "52                                                 0   \n",
       "\n",
       "    Most Loved Competitor network in in Month 2_ToCall  \\\n",
       "52                                                  0    \n",
       "\n",
       "    Most Loved Competitor network in in Month 2_Uxaa  \\\n",
       "52                                                 1   \n",
       "\n",
       "    Most Loved Competitor network in in Month 2_Weematel  \\\n",
       "52                                                  0      \n",
       "\n",
       "    Most Loved Competitor network in in Month 2_Zintel  \n",
       "52                                                  0   \n",
       "\n",
       "[1 rows x 25 columns]"
      ]
     },
     "execution_count": 13,
     "metadata": {},
     "output_type": "execute_result"
    }
   ],
   "source": [
    "df_expl[df_expl[\"network_age\"]<0]"
   ]
  },
  {
   "cell_type": "code",
   "execution_count": 14,
   "metadata": {},
   "outputs": [],
   "source": [
    "df_expl = df_expl[df_expl[\"network_age\"]>=0]"
   ]
  },
  {
   "cell_type": "code",
   "execution_count": 15,
   "metadata": {},
   "outputs": [
    {
     "data": {
      "text/html": [
       "<div>\n",
       "<style scoped>\n",
       "    .dataframe tbody tr th:only-of-type {\n",
       "        vertical-align: middle;\n",
       "    }\n",
       "\n",
       "    .dataframe tbody tr th {\n",
       "        vertical-align: top;\n",
       "    }\n",
       "\n",
       "    .dataframe thead th {\n",
       "        text-align: right;\n",
       "    }\n",
       "</style>\n",
       "<table border=\"1\" class=\"dataframe\">\n",
       "  <thead>\n",
       "    <tr style=\"text-align: right;\">\n",
       "      <th></th>\n",
       "      <th>network_age</th>\n",
       "      <th>Customer tenure in month</th>\n",
       "      <th>Total Spend in Months 1 and 2 of 2017</th>\n",
       "      <th>Total SMS Spend</th>\n",
       "      <th>Total Data Spend</th>\n",
       "      <th>Total Data Consumption</th>\n",
       "      <th>Total Unique Calls</th>\n",
       "      <th>Total Onnet spend</th>\n",
       "      <th>Total Offnet spend</th>\n",
       "      <th>Total Call centre complaint calls</th>\n",
       "      <th>...</th>\n",
       "      <th>Most Loved Competitor network in in Month 1_ToCall</th>\n",
       "      <th>Most Loved Competitor network in in Month 1_Uxaa</th>\n",
       "      <th>Most Loved Competitor network in in Month 1_Weematel</th>\n",
       "      <th>Most Loved Competitor network in in Month 1_Zintel</th>\n",
       "      <th>Most Loved Competitor network in in Month 2_Mango</th>\n",
       "      <th>Most Loved Competitor network in in Month 2_PQza</th>\n",
       "      <th>Most Loved Competitor network in in Month 2_ToCall</th>\n",
       "      <th>Most Loved Competitor network in in Month 2_Uxaa</th>\n",
       "      <th>Most Loved Competitor network in in Month 2_Weematel</th>\n",
       "      <th>Most Loved Competitor network in in Month 2_Zintel</th>\n",
       "    </tr>\n",
       "  </thead>\n",
       "  <tbody>\n",
       "    <tr>\n",
       "      <th>min</th>\n",
       "      <td>95.0</td>\n",
       "      <td>3.17</td>\n",
       "      <td>16.1520</td>\n",
       "      <td>0.00</td>\n",
       "      <td>0.00</td>\n",
       "      <td>1.172000e-01</td>\n",
       "      <td>1.0</td>\n",
       "      <td>0.0</td>\n",
       "      <td>0.0</td>\n",
       "      <td>1.0</td>\n",
       "      <td>...</td>\n",
       "      <td>0.0</td>\n",
       "      <td>0.0</td>\n",
       "      <td>0.0</td>\n",
       "      <td>0.0</td>\n",
       "      <td>0.0</td>\n",
       "      <td>0.0</td>\n",
       "      <td>0.0</td>\n",
       "      <td>0.0</td>\n",
       "      <td>0.0</td>\n",
       "      <td>0.0</td>\n",
       "    </tr>\n",
       "    <tr>\n",
       "      <th>max</th>\n",
       "      <td>5363.0</td>\n",
       "      <td>178.77</td>\n",
       "      <td>10042.3532</td>\n",
       "      <td>873.98</td>\n",
       "      <td>493.75</td>\n",
       "      <td>3.714204e+07</td>\n",
       "      <td>2596.0</td>\n",
       "      <td>381174.0</td>\n",
       "      <td>431440.0</td>\n",
       "      <td>16.0</td>\n",
       "      <td>...</td>\n",
       "      <td>1.0</td>\n",
       "      <td>1.0</td>\n",
       "      <td>1.0</td>\n",
       "      <td>1.0</td>\n",
       "      <td>1.0</td>\n",
       "      <td>1.0</td>\n",
       "      <td>1.0</td>\n",
       "      <td>1.0</td>\n",
       "      <td>1.0</td>\n",
       "      <td>1.0</td>\n",
       "    </tr>\n",
       "  </tbody>\n",
       "</table>\n",
       "<p>2 rows × 24 columns</p>\n",
       "</div>"
      ],
      "text/plain": [
       "     network_age  Customer tenure in month  \\\n",
       "min         95.0                      3.17   \n",
       "max       5363.0                    178.77   \n",
       "\n",
       "     Total Spend in Months 1 and 2 of 2017  Total SMS Spend  Total Data Spend  \\\n",
       "min                                16.1520             0.00              0.00   \n",
       "max                             10042.3532           873.98            493.75   \n",
       "\n",
       "     Total Data Consumption  Total Unique Calls  Total Onnet spend  \\\n",
       "min            1.172000e-01                 1.0                0.0   \n",
       "max            3.714204e+07              2596.0           381174.0   \n",
       "\n",
       "     Total Offnet spend  Total Call centre complaint calls  ...  \\\n",
       "min                 0.0                                1.0  ...   \n",
       "max            431440.0                               16.0  ...   \n",
       "\n",
       "     Most Loved Competitor network in in Month 1_ToCall  \\\n",
       "min                                                0.0    \n",
       "max                                                1.0    \n",
       "\n",
       "     Most Loved Competitor network in in Month 1_Uxaa  \\\n",
       "min                                               0.0   \n",
       "max                                               1.0   \n",
       "\n",
       "     Most Loved Competitor network in in Month 1_Weematel  \\\n",
       "min                                                0.0      \n",
       "max                                                1.0      \n",
       "\n",
       "     Most Loved Competitor network in in Month 1_Zintel  \\\n",
       "min                                                0.0    \n",
       "max                                                1.0    \n",
       "\n",
       "     Most Loved Competitor network in in Month 2_Mango  \\\n",
       "min                                                0.0   \n",
       "max                                                1.0   \n",
       "\n",
       "     Most Loved Competitor network in in Month 2_PQza  \\\n",
       "min                                               0.0   \n",
       "max                                               1.0   \n",
       "\n",
       "     Most Loved Competitor network in in Month 2_ToCall  \\\n",
       "min                                                0.0    \n",
       "max                                                1.0    \n",
       "\n",
       "     Most Loved Competitor network in in Month 2_Uxaa  \\\n",
       "min                                               0.0   \n",
       "max                                               1.0   \n",
       "\n",
       "     Most Loved Competitor network in in Month 2_Weematel  \\\n",
       "min                                                0.0      \n",
       "max                                                1.0      \n",
       "\n",
       "     Most Loved Competitor network in in Month 2_Zintel  \n",
       "min                                                0.0   \n",
       "max                                                1.0   \n",
       "\n",
       "[2 rows x 24 columns]"
      ]
     },
     "execution_count": 15,
     "metadata": {},
     "output_type": "execute_result"
    }
   ],
   "source": [
    "df_expl.describe().loc[[\"min\",\"max\"]]"
   ]
  },
  {
   "cell_type": "code",
   "execution_count": 16,
   "metadata": {},
   "outputs": [
    {
     "data": {
      "text/plain": [
       "(288, 25)"
      ]
     },
     "execution_count": 16,
     "metadata": {},
     "output_type": "execute_result"
    }
   ],
   "source": [
    "df_expl.shape"
   ]
  },
  {
   "cell_type": "markdown",
   "metadata": {},
   "source": [
    "### Creación de variables sintéticas nuevas"
   ]
  },
  {
   "cell_type": "code",
   "execution_count": 17,
   "metadata": {},
   "outputs": [],
   "source": [
    "df_expl[\"ratio2\"] = df_expl[\"Total SMS Spend\"] / (1 + df_expl[\"Total Offnet spend\"] + df_expl[\"Total Onnet spend\"])\n",
    "\n",
    "df_expl[\"ratio3\"] = df_expl[\"Total SMS Spend\"] / df_expl[\"Total Unique Calls\"]\n",
    "\n",
    "df_expl[\"ratio4\"] = df_expl[\"Total Spend in Months 1 and 2 of 2017\"] * df_expl[\"Total Unique Calls\"]"
   ]
  },
  {
   "cell_type": "code",
   "execution_count": 18,
   "metadata": {},
   "outputs": [],
   "source": [
    "for name in variables_transformadas_a_log:\n",
    "    df_expl[name] = np.log(1+df_expl[name])"
   ]
  },
  {
   "cell_type": "markdown",
   "metadata": {},
   "source": [
    "### Estandarización de los datos"
   ]
  },
  {
   "cell_type": "code",
   "execution_count": 19,
   "metadata": {},
   "outputs": [],
   "source": [
    "if estandarizador is not None:\n",
    "    aux = estandarizador.transform(df_expl[variables_estandarizadas].values)\n",
    "    df_expl[variables_estandarizadas] = aux"
   ]
  },
  {
   "cell_type": "markdown",
   "metadata": {},
   "source": [
    "### Finalmente utilizo solo las variables usadas en el notebook de construcción del modelo"
   ]
  },
  {
   "cell_type": "code",
   "execution_count": 20,
   "metadata": {},
   "outputs": [],
   "source": [
    "IDs_expl = df_expl[\"Customer ID\"].values\n",
    "df_expl = df_expl[variables_usadas]\n",
    "X_expl = df_expl.values"
   ]
  },
  {
   "cell_type": "code",
   "execution_count": 21,
   "metadata": {},
   "outputs": [
    {
     "data": {
      "text/plain": [
       "array(['Customer tenure in month',\n",
       "       'Total Spend in Months 1 and 2 of 2017', 'Total SMS Spend',\n",
       "       'Total Data Consumption', 'Total Unique Calls',\n",
       "       'Total Onnet spend', 'Total Call centre complaint calls',\n",
       "       'Most Loved Competitor network in in Month 1_0',\n",
       "       'Most Loved Competitor network in in Month 1_Mango',\n",
       "       'Most Loved Competitor network in in Month 1_PQza',\n",
       "       'Most Loved Competitor network in in Month 1_Uxaa',\n",
       "       'Most Loved Competitor network in in Month 1_Zintel',\n",
       "       'Most Loved Competitor network in in Month 2_Mango',\n",
       "       'Most Loved Competitor network in in Month 2_PQza',\n",
       "       'Most Loved Competitor network in in Month 2_ToCall',\n",
       "       'Most Loved Competitor network in in Month 2_Uxaa',\n",
       "       'Most Loved Competitor network in in Month 2_Weematel',\n",
       "       'Most Loved Competitor network in in Month 2_Zintel', 'ratio3',\n",
       "       'ratio4'], dtype=object)"
      ]
     },
     "execution_count": 21,
     "metadata": {},
     "output_type": "execute_result"
    }
   ],
   "source": [
    "variables_usadas"
   ]
  },
  {
   "cell_type": "markdown",
   "metadata": {},
   "source": [
    "# Predicciones en explotación"
   ]
  },
  {
   "cell_type": "code",
   "execution_count": 22,
   "metadata": {},
   "outputs": [],
   "source": [
    "prob_fuga_expl = model.predict_proba(X_expl)[:,1]"
   ]
  },
  {
   "cell_type": "code",
   "execution_count": 23,
   "metadata": {},
   "outputs": [
    {
     "data": {
      "text/plain": [
       "array([0.16603645, 0.44543021, 0.23944853, 0.38128976, 0.16560594])"
      ]
     },
     "execution_count": 23,
     "metadata": {},
     "output_type": "execute_result"
    }
   ],
   "source": [
    "prob_fuga_expl[:5]"
   ]
  },
  {
   "cell_type": "code",
   "execution_count": 24,
   "metadata": {},
   "outputs": [
    {
     "data": {
      "text/html": [
       "<div>\n",
       "<style scoped>\n",
       "    .dataframe tbody tr th:only-of-type {\n",
       "        vertical-align: middle;\n",
       "    }\n",
       "\n",
       "    .dataframe tbody tr th {\n",
       "        vertical-align: top;\n",
       "    }\n",
       "\n",
       "    .dataframe thead th {\n",
       "        text-align: right;\n",
       "    }\n",
       "</style>\n",
       "<table border=\"1\" class=\"dataframe\">\n",
       "  <thead>\n",
       "    <tr style=\"text-align: right;\">\n",
       "      <th></th>\n",
       "      <th>Customer ID</th>\n",
       "      <th>Prob Fuga</th>\n",
       "    </tr>\n",
       "  </thead>\n",
       "  <tbody>\n",
       "    <tr>\n",
       "      <th>0</th>\n",
       "      <td>ADF1330</td>\n",
       "      <td>0.166036</td>\n",
       "    </tr>\n",
       "    <tr>\n",
       "      <th>1</th>\n",
       "      <td>ADF1331</td>\n",
       "      <td>0.445430</td>\n",
       "    </tr>\n",
       "    <tr>\n",
       "      <th>2</th>\n",
       "      <td>ADF1345</td>\n",
       "      <td>0.239449</td>\n",
       "    </tr>\n",
       "    <tr>\n",
       "      <th>3</th>\n",
       "      <td>ADF1349</td>\n",
       "      <td>0.381290</td>\n",
       "    </tr>\n",
       "    <tr>\n",
       "      <th>4</th>\n",
       "      <td>ADF1363</td>\n",
       "      <td>0.165606</td>\n",
       "    </tr>\n",
       "  </tbody>\n",
       "</table>\n",
       "</div>"
      ],
      "text/plain": [
       "  Customer ID  Prob Fuga\n",
       "0     ADF1330   0.166036\n",
       "1     ADF1331   0.445430\n",
       "2     ADF1345   0.239449\n",
       "3     ADF1349   0.381290\n",
       "4     ADF1363   0.165606"
      ]
     },
     "execution_count": 24,
     "metadata": {},
     "output_type": "execute_result"
    }
   ],
   "source": [
    "predicciones = pd.DataFrame({\"Customer ID\":IDs_expl,\n",
    "                             \"Prob Fuga\":prob_fuga_expl})\n",
    "predicciones[:5]"
   ]
  },
  {
   "cell_type": "code",
   "execution_count": 25,
   "metadata": {},
   "outputs": [
    {
     "data": {
      "text/html": [
       "<div>\n",
       "<style scoped>\n",
       "    .dataframe tbody tr th:only-of-type {\n",
       "        vertical-align: middle;\n",
       "    }\n",
       "\n",
       "    .dataframe tbody tr th {\n",
       "        vertical-align: top;\n",
       "    }\n",
       "\n",
       "    .dataframe thead th {\n",
       "        text-align: right;\n",
       "    }\n",
       "</style>\n",
       "<table border=\"1\" class=\"dataframe\">\n",
       "  <thead>\n",
       "    <tr style=\"text-align: right;\">\n",
       "      <th></th>\n",
       "      <th>Customer ID</th>\n",
       "      <th>Prob Fuga</th>\n",
       "    </tr>\n",
       "  </thead>\n",
       "  <tbody>\n",
       "    <tr>\n",
       "      <th>140</th>\n",
       "      <td>ADF0391</td>\n",
       "      <td>0.919275</td>\n",
       "    </tr>\n",
       "    <tr>\n",
       "      <th>147</th>\n",
       "      <td>ADF0442</td>\n",
       "      <td>0.919275</td>\n",
       "    </tr>\n",
       "    <tr>\n",
       "      <th>141</th>\n",
       "      <td>ADF0409</td>\n",
       "      <td>0.918054</td>\n",
       "    </tr>\n",
       "    <tr>\n",
       "      <th>177</th>\n",
       "      <td>ADF0601</td>\n",
       "      <td>0.917867</td>\n",
       "    </tr>\n",
       "    <tr>\n",
       "      <th>101</th>\n",
       "      <td>ADF1896</td>\n",
       "      <td>0.913433</td>\n",
       "    </tr>\n",
       "  </tbody>\n",
       "</table>\n",
       "</div>"
      ],
      "text/plain": [
       "    Customer ID  Prob Fuga\n",
       "140     ADF0391   0.919275\n",
       "147     ADF0442   0.919275\n",
       "141     ADF0409   0.918054\n",
       "177     ADF0601   0.917867\n",
       "101     ADF1896   0.913433"
      ]
     },
     "execution_count": 25,
     "metadata": {},
     "output_type": "execute_result"
    }
   ],
   "source": [
    "predicciones = predicciones.sort_values(\"Prob Fuga\",\n",
    "                                        ascending=False)[:200]\n",
    "predicciones.iloc[:5]"
   ]
  },
  {
   "cell_type": "code",
   "execution_count": 26,
   "metadata": {},
   "outputs": [],
   "source": [
    "predicciones[[\"Customer ID\"]].to_csv(\"top_100_v2.csv\", index=None)"
   ]
  },
  {
   "cell_type": "code",
   "execution_count": null,
   "metadata": {},
   "outputs": [],
   "source": []
  }
 ],
 "metadata": {
  "kernelspec": {
   "display_name": "Python 3",
   "language": "python",
   "name": "python3"
  },
  "language_info": {
   "codemirror_mode": {
    "name": "ipython",
    "version": 3
   },
   "file_extension": ".py",
   "mimetype": "text/x-python",
   "name": "python",
   "nbconvert_exporter": "python",
   "pygments_lexer": "ipython3",
   "version": "3.6.8"
  }
 },
 "nbformat": 4,
 "nbformat_minor": 2
}
